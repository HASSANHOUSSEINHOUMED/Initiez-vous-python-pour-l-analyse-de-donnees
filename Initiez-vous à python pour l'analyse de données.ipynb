{
 "cells": [
  {
   "cell_type": "markdown",
   "id": "5f3db197",
   "metadata": {},
   "source": [
    "Faites vos premiers pas avec Jupyter Notebook"
   ]
  },
  {
   "cell_type": "code",
   "execution_count": 1,
   "id": "201a585d",
   "metadata": {},
   "outputs": [
    {
     "name": "stdout",
     "output_type": "stream",
     "text": [
      "Hello World !\n"
     ]
    }
   ],
   "source": [
    "print('Hello World !')"
   ]
  },
  {
   "cell_type": "markdown",
   "id": "86c9f353",
   "metadata": {},
   "source": [
    "# Un titre de niveau 1\n",
    "Voici un peu de texte pour présenter un markdown\n",
    "## titre de niveau 2\n",
    "**Ceci** est très important\n",
    "## autre titre de niveau 2\n",
    "Mais *cela* également !"
   ]
  },
  {
   "cell_type": "markdown",
   "id": "a594c832",
   "metadata": {},
   "source": [
    "Déclarez une variable"
   ]
  },
  {
   "cell_type": "code",
   "execution_count": 2,
   "id": "009bf70b",
   "metadata": {},
   "outputs": [],
   "source": [
    "compteCourant = 500\n",
    "compteEpargne = 1000"
   ]
  },
  {
   "cell_type": "code",
   "execution_count": 3,
   "id": "05004135",
   "metadata": {},
   "outputs": [],
   "source": [
    "# ajouter 100 à notre épargne (Yeah!)\n",
    "compteEpargne = compteEpargne + 100\n",
    "\n",
    "# enlever 50 de notre compte courant (Snif)\n",
    "compteCourant = compteCourant - 50\n",
    "\n",
    "# calculer le nombre de jours à économiser pour atteindre 5000€\n",
    "nombreJoursEconomiser = (5000 - compteCourant) / 500\n",
    "\n",
    "# mettre à jour notre compte courant (encore) après les gains/pertes journaliers\n",
    "compteCourant = compteCourant + (30 - 10) * 7"
   ]
  },
  {
   "cell_type": "markdown",
   "id": "bacaa6e8",
   "metadata": {},
   "source": [
    "# # Exercice d'entrainement"
   ]
  },
  {
   "cell_type": "markdown",
   "id": "92de868c",
   "metadata": {},
   "source": [
    "Déclarez une variable\n",
    "Exécutez la case suivante qui déclare les variables :\n",
    "\n",
    "compteEpargne correspondant au montant sur le compte épargne\n",
    "taux le taux d'intérêt pour l'année considérée\n"
   ]
  },
  {
   "cell_type": "code",
   "execution_count": 4,
   "id": "1d44818f",
   "metadata": {},
   "outputs": [
    {
     "name": "stdout",
     "output_type": "stream",
     "text": [
      "100\n",
      "729\n",
      "2\n"
     ]
    }
   ],
   "source": [
    "print(compteEpargne % 500) # -> 100\n",
    "# 1100 = 500 * 2 + 100, donc 1100 % 500 = le reste = 100\n",
    "\n",
    "print(9 ** 3) # -> 729, 9*9*9 = 729\n",
    "\n",
    "print(compteEpargne // 500) # -> 2\n",
    "# 1100 = 500 * 2 + 100, donc 1100 // 500 = résultat division entière = 2"
   ]
  },
  {
   "cell_type": "code",
   "execution_count": 5,
   "id": "8f0836ac",
   "metadata": {},
   "outputs": [],
   "source": [
    "compteEpargne = 10000\n",
    "taux = 0.75"
   ]
  },
  {
   "cell_type": "markdown",
   "id": "fbc28c35",
   "metadata": {},
   "source": [
    "Créez une variable interets, qui correspond au montant sur le compte épargne multiplié par le taux d'intérêt (qui lui même doit être divisé par 100, car les taux sont exprimés en pourcentage) :"
   ]
  },
  {
   "cell_type": "code",
   "execution_count": 6,
   "id": "741794a4",
   "metadata": {},
   "outputs": [],
   "source": [
    "interets = compteEpargne * (taux/100)"
   ]
  },
  {
   "cell_type": "markdown",
   "id": "b4151498",
   "metadata": {},
   "source": [
    "A présent exécutez la case suivante :"
   ]
  },
  {
   "cell_type": "code",
   "execution_count": 7,
   "id": "ebe118e2",
   "metadata": {},
   "outputs": [
    {
     "name": "stdout",
     "output_type": "stream",
     "text": [
      "Le solde de votre compte était de 10000 €\n",
      "Il vous a rapporté 75.0 € cette année\n"
     ]
    }
   ],
   "source": [
    "print(\"Le solde de votre compte était de\", compteEpargne, \"€\\nIl vous a rapporté\", interets, \"€ cette année\")"
   ]
  },
  {
   "cell_type": "code",
   "execution_count": 8,
   "id": "f8d437ea",
   "metadata": {},
   "outputs": [],
   "source": [
    "# version explicite\n",
    "compteEpargne = compteEpargne + 100\n",
    "\n",
    "# équivalent à version courte :\n",
    "compteEpargne += 100"
   ]
  },
  {
   "cell_type": "markdown",
   "id": "509f04c3",
   "metadata": {},
   "source": [
    "Pour rappel : il fallait reprendre le code suivant en modifiant la ligne economies = economies + 500 en dessous du # A FAIRE en commentaire, via l'opérateur simplifié +="
   ]
  },
  {
   "cell_type": "code",
   "execution_count": 9,
   "id": "3bd01007",
   "metadata": {},
   "outputs": [
    {
     "name": "stdout",
     "output_type": "stream",
     "text": [
      "Vos économies sont de:  3500\n"
     ]
    }
   ],
   "source": [
    "compte = 200\n",
    "economies = 3000\n",
    "    \n",
    "# A FAIRE: modifiez la ligne suivante avec l'opérateur simplifié +=\n",
    "economies = economies + 500\n",
    "\n",
    "print(\"Vos économies sont de: \", economies)"
   ]
  },
  {
   "cell_type": "code",
   "execution_count": 10,
   "id": "159e3dba",
   "metadata": {},
   "outputs": [
    {
     "name": "stdout",
     "output_type": "stream",
     "text": [
      "Vos économies sont de:  3500\n"
     ]
    }
   ],
   "source": [
    "# La solution est donc :\n",
    "compte = 200\n",
    "economies = 3000\n",
    "    \n",
    "economies += 500\n",
    "\n",
    "print(\"Vos économies sont de: \", economies)"
   ]
  },
  {
   "cell_type": "code",
   "execution_count": 11,
   "id": "7e69bbd1",
   "metadata": {},
   "outputs": [],
   "source": [
    "# Vous pourriez déclarer ces trois variables de la façon suivante :\n",
    "prenom = \"Benjamin\"\n",
    "pourcentageActivite = 72.3\n",
    "adresse = \"7 Cité Paradis, 75010 Paris\""
   ]
  },
  {
   "cell_type": "code",
   "execution_count": 12,
   "id": "2786ec82",
   "metadata": {},
   "outputs": [],
   "source": [
    "adresse = \"7 Cité Paradis, 75010 Paris\"\n",
    "# équivalent à\n",
    "adresse = '7 Cité Paradis, 75010 Paris'"
   ]
  },
  {
   "cell_type": "markdown",
   "id": "88ad503b",
   "metadata": {},
   "source": [
    "# En résumé\n",
    "## Dans ce chapitre, vous avez découvert les fondamentaux sur les variables :\n",
    "\n",
    "## Une variable est composée de deux éléments : son nom et sa valeur.\n",
    "\n",
    "## L’attribution d’une valeur à une variable s’appelle une affectation.\n",
    "\n",
    "## La valeur d’une variable peut être modifiée.\n",
    "\n",
    "## Le type d’une variable dépend de sa valeur.\n",
    "\n",
    "## Les noms de vos variables doivent être clairs, explicites et doivent suivre une convention typographique.\n",
    "\n",
    "## Dans le prochain chapitre, vous aborderez plus en détail les types de variables !\n"
   ]
  },
  {
   "cell_type": "code",
   "execution_count": 13,
   "id": "f7d312f8",
   "metadata": {},
   "outputs": [],
   "source": [
    "#"
   ]
  },
  {
   "cell_type": "code",
   "execution_count": 14,
   "id": "dc139140",
   "metadata": {},
   "outputs": [],
   "source": [
    "########"
   ]
  },
  {
   "cell_type": "markdown",
   "id": "277d67c2",
   "metadata": {},
   "source": [
    "#  Manipulez les types de variables"
   ]
  },
  {
   "cell_type": "code",
   "execution_count": 15,
   "id": "9f82ff55",
   "metadata": {},
   "outputs": [],
   "source": [
    "compte = 10"
   ]
  },
  {
   "cell_type": "code",
   "execution_count": 16,
   "id": "9dcb047a",
   "metadata": {},
   "outputs": [],
   "source": [
    "longueur = 1876.79\n",
    "largeur = 870.0"
   ]
  },
  {
   "cell_type": "code",
   "execution_count": 17,
   "id": "bae5c0b9",
   "metadata": {},
   "outputs": [
    {
     "data": {
      "text/plain": [
       "2.5"
      ]
     },
     "execution_count": 17,
     "metadata": {},
     "output_type": "execute_result"
    }
   ],
   "source": [
    "a = 7.5\n",
    "b = 3\n",
    "c = a/b\n",
    "c\n",
    "# cela va afficher 2.5, ce qui est bien un float"
   ]
  },
  {
   "cell_type": "code",
   "execution_count": 18,
   "id": "573055b1",
   "metadata": {},
   "outputs": [
    {
     "name": "stdout",
     "output_type": "stream",
     "text": [
      "2.0\n"
     ]
    }
   ],
   "source": [
    "a = 10\n",
    "b = 5\n",
    "c = a/b\n",
    "print(c)\n",
    "# c est un float"
   ]
  },
  {
   "cell_type": "code",
   "execution_count": 19,
   "id": "e3605814",
   "metadata": {},
   "outputs": [
    {
     "name": "stdout",
     "output_type": "stream",
     "text": [
      "14\n"
     ]
    }
   ],
   "source": [
    "a = 14.0\n",
    "# a est un float\n",
    "a = int(a)\n",
    "print(a)\n",
    "# a est à présent un entier : il affiche 14 et non plus 14.0"
   ]
  },
  {
   "cell_type": "markdown",
   "id": "edb743d3",
   "metadata": {},
   "source": [
    "# # Exercice d'entrenaiment"
   ]
  },
  {
   "cell_type": "code",
   "execution_count": 20,
   "id": "d041db97",
   "metadata": {},
   "outputs": [
    {
     "name": "stdout",
     "output_type": "stream",
     "text": [
      "75.0\n"
     ]
    }
   ],
   "source": [
    "# Reprenons la problématique du taux d'intérêt du chapitre précédent :\n",
    "compteEpargne = 10000\n",
    "taux = 0.75\n",
    "\n",
    "interets = compteEpargne * (taux/100)\n",
    "\n",
    "print(interets)"
   ]
  },
  {
   "cell_type": "code",
   "execution_count": 21,
   "id": "cc8197a2",
   "metadata": {},
   "outputs": [
    {
     "name": "stdout",
     "output_type": "stream",
     "text": [
      "75\n"
     ]
    }
   ],
   "source": [
    "# Si vous observez bien, la variable interets est actuellement de type float. Ecrivez ci dessous une ligne permettant de la transformer en entier :\n",
    "interets = int(interets)\n",
    "\n",
    "print(interets)"
   ]
  },
  {
   "cell_type": "code",
   "execution_count": 22,
   "id": "e29f982c",
   "metadata": {},
   "outputs": [],
   "source": [
    "# interets est à présent bien un entier !"
   ]
  },
  {
   "cell_type": "markdown",
   "id": "f4f95b47",
   "metadata": {},
   "source": [
    "# # Les chaînes des caractères"
   ]
  },
  {
   "cell_type": "code",
   "execution_count": 23,
   "id": "a50a7cd0",
   "metadata": {},
   "outputs": [],
   "source": [
    "ville = \"Paris\"\n",
    "film = 'intouchables'\n",
    "stringVide = \"\""
   ]
  },
  {
   "cell_type": "code",
   "execution_count": 24,
   "id": "9a9dd0e9",
   "metadata": {},
   "outputs": [
    {
     "name": "stdout",
     "output_type": "stream",
     "text": [
      "ReimsStrasbourg\n"
     ]
    }
   ],
   "source": [
    "villeFavoriteUne = \"Reims\"\n",
    "villeFavoriteDeux = \"Strasbourg\"\n",
    "favoris = villeFavoriteUne + villeFavoriteDeux\n",
    "print(favoris) # => \"ReimsStrasbourg\""
   ]
  },
  {
   "cell_type": "code",
   "execution_count": 25,
   "id": "c2cafb30",
   "metadata": {},
   "outputs": [
    {
     "name": "stdout",
     "output_type": "stream",
     "text": [
      "Mes villes favorites sont Reims et Strasbourg\n"
     ]
    }
   ],
   "source": [
    "villeFavoriteUne = \"Reims\"\n",
    "villeFavoriteDeux = \"Strasbourg\"\n",
    "favoris = \"Mes villes favorites sont \" + villeFavoriteUne + \" et \"+ villeFavoriteDeux \n",
    "print(favoris) # -> \"Mes villes favorites sont Reims et Strasbourg\""
   ]
  },
  {
   "cell_type": "code",
   "execution_count": 26,
   "id": "0a369cf3",
   "metadata": {},
   "outputs": [
    {
     "name": "stdout",
     "output_type": "stream",
     "text": [
      "J'ai déjà été à Sydney 5 fois\n"
     ]
    }
   ],
   "source": [
    "ville = \"Sydney\"\n",
    "nombreVoyages = 5\n",
    "histoire = \"J'ai déjà été à \" + ville + \" \" + str(nombreVoyages) + \" fois\"\n",
    "print(histoire) # => \"J'ai déjà été à Syndey 5 fois\""
   ]
  },
  {
   "cell_type": "markdown",
   "id": "59ff2456",
   "metadata": {},
   "source": [
    "#  En résumé\n",
    "## Dans ce chapitre, vous avez rencontré trois types primitifs de variables, indispensables à tous programmes/analyses :\n",
    "\n",
    "## entiers (int) ;\n",
    "\n",
    "## décimaux (float) ;\n",
    "\n",
    "## chaînes de caractères (string).\n",
    "\n",
    "## Vous avez également vu comment manipuler ces différents types :\n",
    "\n",
    "## vous pouvez réaliser des opérations numériques sur des variables numériques de types différents ;\n",
    "\n",
    "## vous pouvez caster des variables pour forcer la transformation du type d’une variable en un autre spécifique, en fonction de vos besoins ;\n",
    "\n",
    "## des chaînes de caractères peuvent être assemblées ensemble : c’est la concaténation.# "
   ]
  },
  {
   "cell_type": "markdown",
   "id": "446800bc",
   "metadata": {},
   "source": [
    "#  Écrivez vos propres fonctions"
   ]
  },
  {
   "cell_type": "code",
   "execution_count": 28,
   "id": "9580ed37",
   "metadata": {},
   "outputs": [],
   "source": [
    "# def nomFonction():\n",
    "    # instructions \n",
    "    # pouvant aller\n",
    "    # sur plusieurs\n",
    "    # lignes"
   ]
  },
  {
   "cell_type": "code",
   "execution_count": 29,
   "id": "75b591b3",
   "metadata": {},
   "outputs": [
    {
     "name": "stdout",
     "output_type": "stream",
     "text": [
      "13\n"
     ]
    }
   ],
   "source": [
    "def afficherPerimetre():\n",
    "    cote1 = 6\n",
    "    cote2 = 4\n",
    "    cote3 = 3\n",
    "    perimetre = cote1 + cote2 + cote3\n",
    "    print(perimetre)\n",
    "    \n",
    "afficherPerimetre() # => 13"
   ]
  },
  {
   "cell_type": "code",
   "execution_count": 30,
   "id": "7f92665c",
   "metadata": {},
   "outputs": [],
   "source": [
    "def afficherPerimetre(cote1, cote2, cote3):\n",
    "    perimetre = cote1 + cote2 + cote3\n",
    "    print(perimetre)"
   ]
  },
  {
   "cell_type": "code",
   "execution_count": 31,
   "id": "e38263ec",
   "metadata": {},
   "outputs": [
    {
     "name": "stdout",
     "output_type": "stream",
     "text": [
      "25\n",
      "7.5\n"
     ]
    }
   ],
   "source": [
    "afficherPerimetre(10, 11, 4) # => 25\n",
    "afficherPerimetre(2, 2, 3.5) # => 7.5"
   ]
  },
  {
   "cell_type": "code",
   "execution_count": 32,
   "id": "49b8b05a",
   "metadata": {},
   "outputs": [],
   "source": [
    "def calculPerimetre(cote1, cote2, cote3):\n",
    "    perimetre = cote1 + cote2 + cote3\n",
    "    return perimetre"
   ]
  },
  {
   "cell_type": "code",
   "execution_count": 33,
   "id": "75d90981",
   "metadata": {},
   "outputs": [
    {
     "name": "stdout",
     "output_type": "stream",
     "text": [
      "Le périmetre de mon premier triangle est 13 et celle de mon second est 24\n"
     ]
    }
   ],
   "source": [
    "perimetre1 = calculPerimetre(6, 4, 3)\n",
    "perimetre2 = calculPerimetre(10, 3, 11)\n",
    "\n",
    "print(\"Le périmetre de mon premier triangle est\", perimetre1, \"et celle de mon second est\", perimetre2)"
   ]
  },
  {
   "cell_type": "markdown",
   "id": "54b7226b",
   "metadata": {},
   "source": [
    "# En résumé\n",
    "## Dans ce chapitre, vous avez vu que :\n",
    "\n",
    "## les fonctions peuvent avoir des paramètres et des valeurs de retour ;\n",
    "\n",
    "## une valeur de retour est le résultat de l’exécution de la fonction. Elle est retournée au code qui a appelé la fonction, pour ensuite être utilisée au besoin ;\n",
    "\n",
    "## les paramètres sont les données nécessaires à une fonction pour être exécutée et générer un résultat ;\n",
    "\n",
    "## les paramètres sont des variables définies par un nom. Ils sont spécifiés dans la déclaration de la fonction ;\n",
    "\n",
    "## lorsque l’on utilise une fonction, vous lui passez différentes valeurs en paramètres. Ces valeurs sont appelées arguments;\n",
    "\n",
    "## vous pouvez utiliser la fonction help pour afficher la documentation d’une fonction donnée."
   ]
  },
  {
   "cell_type": "markdown",
   "id": "d985f511",
   "metadata": {},
   "source": [
    "#  Programmez en orienté objet"
   ]
  },
  {
   "cell_type": "code",
   "execution_count": 34,
   "id": "16835e5c",
   "metadata": {},
   "outputs": [],
   "source": [
    "var1 = 14\n",
    "var2 = 1031"
   ]
  },
  {
   "cell_type": "markdown",
   "id": "97a5a49d",
   "metadata": {},
   "source": [
    "### Exercice d'entrainement"
   ]
  },
  {
   "cell_type": "code",
   "execution_count": 35,
   "id": "c8a75400",
   "metadata": {},
   "outputs": [],
   "source": [
    "# Les méthodes de chaines de caractères\n",
    "\n",
    "# Soit la variable maPhrase suivante :\n",
    "\n",
    "maPhrase = 'JE SUIS ENERVE !!'"
   ]
  },
  {
   "cell_type": "code",
   "execution_count": 36,
   "id": "c28dd821",
   "metadata": {},
   "outputs": [
    {
     "name": "stdout",
     "output_type": "stream",
     "text": [
      "je suis enerve !!\n"
     ]
    }
   ],
   "source": [
    "# Utilisez une méthode de chaines de caractères pour transformer la variable maPhrase en minuscule :\n",
    "maPhrase = maPhrase.lower()\n",
    "print(maPhrase)"
   ]
  },
  {
   "cell_type": "code",
   "execution_count": 37,
   "id": "3b7c0046",
   "metadata": {},
   "outputs": [
    {
     "name": "stdout",
     "output_type": "stream",
     "text": [
      "je suis calme !!\n"
     ]
    }
   ],
   "source": [
    "# Remplacez les ... par une ligne permettant, à partir de la variable maPhrase d'afficher : je suis calme !!\n",
    "print(maPhrase.replace(\"enerve\", \"calme\"))"
   ]
  },
  {
   "cell_type": "markdown",
   "id": "7a97cf4a",
   "metadata": {},
   "source": [
    "# En résumé\n",
    "### Une classe est un plan de construction d’un objet.\n",
    "\n",
    "### Une variable est une instance de classe, ou un objet.\n",
    "\n",
    "### Un objet est défini par ses attributs.\n",
    "\n",
    "### Toutes les instances d’une classe ont accès aux mêmes méthodes via la notation..\n",
    "\n",
    "### Une méthode, tout comme une fonction, ne modifie généralement pas l’objet initial.\n",
    "\n",
    "### Dans la prochaine partie, nous verrons un peu plus en détail comment organiser votre code via différentes structures et objets complexes."
   ]
  },
  {
   "cell_type": "markdown",
   "id": "4dc66019",
   "metadata": {},
   "source": [
    "# Créez des tableaux pour stocker vos variables"
   ]
  },
  {
   "cell_type": "code",
   "execution_count": 38,
   "id": "3307e8b1",
   "metadata": {},
   "outputs": [],
   "source": [
    "nomClient1 = 'Georges Dupont'\n",
    "nomClient2 = 'Luc Martin'\n",
    "nomClient3 = 'Lucas Anderson'\n",
    "nomClient4 = 'Alexandre Petit'\n",
    "# etc..."
   ]
  },
  {
   "cell_type": "code",
   "execution_count": 39,
   "id": "32195ae1",
   "metadata": {},
   "outputs": [],
   "source": [
    "nomClient = ['Georges Dupont', 'Luc Martin', 'Lucas Anderson', 'Alexandre Petit']"
   ]
  },
  {
   "cell_type": "code",
   "execution_count": 40,
   "id": "0fa533ca",
   "metadata": {},
   "outputs": [],
   "source": [
    "# assigner la valeur 'Georges Dupond' au premier nom dans notre liste\n",
    "# c'est donc l'indice 0, car les indices commencent à 0 en python !\n",
    "nomClient[0] = 'Georges Dupond'"
   ]
  },
  {
   "cell_type": "code",
   "execution_count": 41,
   "id": "ce1a2975",
   "metadata": {},
   "outputs": [
    {
     "name": "stdout",
     "output_type": "stream",
     "text": [
      "Georges Dupond\n"
     ]
    }
   ],
   "source": [
    "print(nomClient[0])"
   ]
  },
  {
   "cell_type": "code",
   "execution_count": 42,
   "id": "25ecd528",
   "metadata": {},
   "outputs": [
    {
     "name": "stdout",
     "output_type": "stream",
     "text": [
      "Alexandre Petit\n",
      "['Luc Martin', 'Lucas Anderson']\n",
      "['Georges Dupond', 'Luc Martin']\n"
     ]
    }
   ],
   "source": [
    "# afficher le dernier élément\n",
    "print(nomClient[-1])\n",
    "\n",
    "# accéder du second élément au 3ème\n",
    "print(nomClient[1:3])\n",
    "\n",
    "# accéder à tous les éléments du début jusqu'au second\n",
    "print(nomClient[:2])"
   ]
  },
  {
   "cell_type": "code",
   "execution_count": 43,
   "id": "f5f87fa2",
   "metadata": {},
   "outputs": [],
   "source": [
    "montantCompte = [10000, 150, 300, 1800.74]"
   ]
  },
  {
   "cell_type": "code",
   "execution_count": 44,
   "id": "f7c637de",
   "metadata": {},
   "outputs": [
    {
     "name": "stdout",
     "output_type": "stream",
     "text": [
      "['une autre liste', 1]\n"
     ]
    }
   ],
   "source": [
    "listeEtrange = [4, 10.2, \"Georges Dupond\", [\"une autre liste\", 1]]\n",
    "\n",
    "# afficher le 4ème élément de la liste\n",
    "print(listeEtrange[3])"
   ]
  },
  {
   "cell_type": "markdown",
   "id": "b71f027e",
   "metadata": {},
   "source": [
    "# # Exercice d'entrainement "
   ]
  },
  {
   "cell_type": "code",
   "execution_count": 45,
   "id": "2391617b",
   "metadata": {},
   "outputs": [
    {
     "name": "stdout",
     "output_type": "stream",
     "text": [
      "rouge\n",
      "jaune\n",
      "orange\n",
      "émeraude\n",
      "bleu\n"
     ]
    }
   ],
   "source": [
    "#Une liste pour les gouverner tous\n",
    "\n",
    "#Déclarez une liste couleurs contenant 5 éléments : rouge, jaune, orange, vert et bleu.\n",
    "couleurs = ['rouge', 'jaune', 'orange', 'vert', 'bleu']\n",
    "\n",
    "#Remplacez la couleur vert par émeraude :\n",
    "couleurs[3] = 'émeraude'\n",
    "\n",
    "#Affichez le contenu de la liste :\n",
    "for couleur in couleurs :\n",
    "    print(couleur)"
   ]
  },
  {
   "cell_type": "code",
   "execution_count": 46,
   "id": "083df614",
   "metadata": {},
   "outputs": [
    {
     "name": "stdout",
     "output_type": "stream",
     "text": [
      "[7, 5]\n"
     ]
    }
   ],
   "source": [
    "liste = []\n",
    "liste.append(7)\n",
    "liste.append(5)\n",
    "print(liste) # => [7, 5]"
   ]
  },
  {
   "cell_type": "code",
   "execution_count": 47,
   "id": "8edd7797",
   "metadata": {},
   "outputs": [],
   "source": [
    "liste = []\n",
    "liste.append(7) # -> [7]\n",
    "liste.append(5) # -> [7, 5]\n",
    "liste.insert(1,12) # [7, 12, 5]\n",
    "liste[0] = 4 # -> [4, 12, 5]\n",
    "liste.remove(12) # [4, 5]\n",
    "liste.index(5) # affiche 1\n",
    "liste.extend([1, 2, 3]) # [4, 5, 1, 2, 3]\n",
    "del liste[3] # [4, 5, 1, 3]"
   ]
  },
  {
   "cell_type": "code",
   "execution_count": 48,
   "id": "ec1cef06",
   "metadata": {},
   "outputs": [
    {
     "data": {
      "text/plain": [
       "3"
      ]
     },
     "execution_count": 48,
     "metadata": {},
     "output_type": "execute_result"
    }
   ],
   "source": [
    "liste = [1, 2, 3]\n",
    "len(liste) # affichera 3"
   ]
  },
  {
   "cell_type": "markdown",
   "id": "9d36289d",
   "metadata": {},
   "source": [
    "## Exercice d'entrainement "
   ]
  },
  {
   "cell_type": "code",
   "execution_count": 49,
   "id": "eba02878",
   "metadata": {},
   "outputs": [
    {
     "name": "stdout",
     "output_type": "stream",
     "text": [
      "John\n",
      "Marie\n",
      "Joey\n",
      "Martin\n",
      "Marie\n"
     ]
    }
   ],
   "source": [
    "#Ajouter des éléments à une liste\n",
    "\n",
    "#Remplacez les ?? par le code adéquat pour créer une liste vide :\n",
    "\n",
    "invites = []\n",
    "\n",
    "# Ajoutez 3 invités à la liste : Joey, Martin et Marie\n",
    "invites.append('Joey')\n",
    "invites.append('Martin')\n",
    "invites.append('Marie')\n",
    "\n",
    "# A noter - nous avons ici utilisé 3 lignes, mais nous aurions pu très bien faire également :\n",
    "invites.extend(['Joey', 'Martin', 'Marie'])\n",
    "\n",
    "# Affichez la taille de la liste :\n",
    "len(invites)\n",
    "\n",
    "# Remplacez Martin par John dans la liste \n",
    "invites.insert(1, 'John')\n",
    "invites.remove('Martin')\n",
    "\n",
    "# Supprimez Joey de la liste :\n",
    "invites.remove('Joey')\n",
    "\n",
    "# Affichez le contenu de la liste :\n",
    "for invite in invites :\n",
    "    print(invite)"
   ]
  },
  {
   "cell_type": "markdown",
   "id": "79825aaf",
   "metadata": {},
   "source": [
    "## Dictionnaire"
   ]
  },
  {
   "cell_type": "code",
   "execution_count": 50,
   "id": "2fd2baa2",
   "metadata": {},
   "outputs": [
    {
     "name": "stdout",
     "output_type": "stream",
     "text": [
      "150\n"
     ]
    }
   ],
   "source": [
    "comptes = {\"Georges Dupont\": 10000, \"Luc Martin\": 150, \"Lucas Anderson\": 300, \"Alexandre Petit\": 1800.74}\n",
    "print(comptes[\"Luc Martin\"]) # -> 150"
   ]
  },
  {
   "cell_type": "code",
   "execution_count": 51,
   "id": "2261abdd",
   "metadata": {},
   "outputs": [
    {
     "name": "stdout",
     "output_type": "stream",
     "text": [
      "1000\n"
     ]
    }
   ],
   "source": [
    "comptes['Georges Dupont'] -= 2000 # je soustrais 2000 au compte de Georges\n",
    "comptes['Cyril Andreje'] = 1000 # j'ajoute un nouvel individu dans mon dictionnaire\n",
    "print(comptes['Cyril Andreje']) # j'affiche la valeur du compte de Cyril"
   ]
  },
  {
   "cell_type": "code",
   "execution_count": 52,
   "id": "41abee4a",
   "metadata": {},
   "outputs": [
    {
     "data": {
      "text/plain": [
       "150"
      ]
     },
     "execution_count": 52,
     "metadata": {},
     "output_type": "execute_result"
    }
   ],
   "source": [
    "comptes.pop('Luc Martin') # supprime Luc Martin de notre dictionnaire"
   ]
  },
  {
   "cell_type": "code",
   "execution_count": 53,
   "id": "cf5337a6",
   "metadata": {},
   "outputs": [
    {
     "data": {
      "text/plain": [
       "4"
      ]
     },
     "execution_count": 53,
     "metadata": {},
     "output_type": "execute_result"
    }
   ],
   "source": [
    "len(comptes) # -> 3"
   ]
  },
  {
   "cell_type": "markdown",
   "id": "0b8104d0",
   "metadata": {},
   "source": [
    "## Tuples"
   ]
  },
  {
   "cell_type": "code",
   "execution_count": 54,
   "id": "b8bea115",
   "metadata": {},
   "outputs": [],
   "source": [
    "# Déclarer mon tuple\n",
    "mon_tuple = (1, 2, 3, 'a', 'b')"
   ]
  },
  {
   "cell_type": "code",
   "execution_count": 55,
   "id": "3c57c8da",
   "metadata": {},
   "outputs": [
    {
     "name": "stdout",
     "output_type": "stream",
     "text": [
      "2\n",
      "b\n"
     ]
    }
   ],
   "source": [
    "print(mon_tuple[1]) # -> 2\n",
    "print(mon_tuple[4]) # -> 'b'"
   ]
  },
  {
   "cell_type": "code",
   "execution_count": 56,
   "id": "a78969b5",
   "metadata": {},
   "outputs": [
    {
     "name": "stdout",
     "output_type": "stream",
     "text": [
      "1\n",
      "pomme\n"
     ]
    }
   ],
   "source": [
    "a, b = (1, 'pomme')\n",
    "print(a) # -> 1\n",
    "print(b) # -> 'pomme'"
   ]
  },
  {
   "cell_type": "markdown",
   "id": "430174f5",
   "metadata": {},
   "source": [
    "# En résumé\n",
    "\n",
    "#### Dans ce chapitre, vous avez appris l’ensemble des bases de l’utilisation de différents \"types de stockage\" :\n",
    "\n",
    "#### les listes : un tableau ordonné, modifiable, où chaque élément est associé à un indice ;\n",
    "\n",
    "#### les dictionnaires : un tableau non ordonné, modifiable, où chaque élément est associé à une clé ;\n",
    "\n",
    "#### les tuples : un tableau ordonné, non mutable, où chaque élément est associé à un indice ;\n",
    "\n",
    "#### les actions les plus souvent réalisées avec les listes et dictionnaires sont :\n",
    "\n",
    "#### accéder à un élément,\n",
    "\n",
    "#### ajouter un élément,\n",
    "\n",
    "#### supprimer un élément,\n",
    "\n",
    "#### modifier un élément,\n",
    "\n",
    "#### compter le nombre d’éléments stockés ;\n",
    "\n",
    "#### on peut réaliser ces différentes actions via des méthodes.\n",
    "\n",
    "#### Le type à utiliser dépend de la tâche à accomplir. Au fur et à mesure que vous progresserez dans votre carrière, vous serez en mesure de mieux identifier la structure la plus adaptée à votre situation !"
   ]
  },
  {
   "cell_type": "markdown",
   "id": "3534e661",
   "metadata": {},
   "source": [
    "# Contrôlez votre code grâce aux structures conditionnelles"
   ]
  },
  {
   "cell_type": "code",
   "execution_count": 58,
   "id": "a2abfafb",
   "metadata": {},
   "outputs": [
    {
     "name": "stdout",
     "output_type": "stream",
     "text": [
      "Quel est ton nom, cher(e) inconnu(e) ?Hassan\n",
      "Hello Hassan !\n"
     ]
    }
   ],
   "source": [
    "nom = input('Quel est ton nom, cher(e) inconnu(e) ?')\n",
    "\n",
    "if len(nom) > 0:\n",
    "    print(\"Hello\", nom, \"!\")\n",
    "else:\n",
    "    print(\"Hello World !\")"
   ]
  },
  {
   "cell_type": "code",
   "execution_count": 59,
   "id": "d8d13679",
   "metadata": {},
   "outputs": [],
   "source": [
    "ceCoursEstGenial = True\n",
    "sonAuteurEstTresHumble = False"
   ]
  },
  {
   "cell_type": "code",
   "execution_count": 60,
   "id": "02eb3f0f",
   "metadata": {},
   "outputs": [
    {
     "data": {
      "text/plain": [
       "True"
      ]
     },
     "execution_count": 60,
     "metadata": {},
     "output_type": "execute_result"
    }
   ],
   "source": [
    "meteo = \"La météo est chouette !\"\n",
    "meteo.startswith(\"La météo\") # -> True"
   ]
  },
  {
   "cell_type": "code",
   "execution_count": 61,
   "id": "f71a94fe",
   "metadata": {},
   "outputs": [
    {
     "data": {
      "text/plain": [
       "True"
      ]
     },
     "execution_count": 61,
     "metadata": {},
     "output_type": "execute_result"
    }
   ],
   "source": [
    "2 == 2 # -> True\n",
    "2 == 3 # -> False\n",
    "4 != 4 # -> False\n",
    "4!= 5 # -> True\n",
    "1 < 2 # -> True\n",
    "1 < 1 # -> False\n",
    "1 <= 1 # -> True\n",
    "3 > 4 # -> False\n",
    "5 > 4 # -> True\n",
    "5 >= 4 # -> True"
   ]
  },
  {
   "cell_type": "code",
   "execution_count": 63,
   "id": "1c07b7ff",
   "metadata": {},
   "outputs": [],
   "source": [
    "age=15\n",
    "\n",
    "# if age>=21:\n",
    "    # Faire quelquechose si l'age est supérieur ou égal à 21"
   ]
  },
  {
   "cell_type": "code",
   "execution_count": 64,
   "id": "900251a0",
   "metadata": {},
   "outputs": [
    {
     "data": {
      "text/plain": [
       "True"
      ]
     },
     "execution_count": 64,
     "metadata": {},
     "output_type": "execute_result"
    }
   ],
   "source": [
    "True and True # True\n",
    "True and False # False\n",
    "False and False # False\n",
    "True or False # True\n",
    "True or True # True\n",
    "False or False # False\n",
    "not(True) # False\n",
    "not(False) # True"
   ]
  },
  {
   "cell_type": "code",
   "execution_count": 65,
   "id": "68d36c81",
   "metadata": {},
   "outputs": [
    {
     "data": {
      "text/plain": [
       "False"
      ]
     },
     "execution_count": 65,
     "metadata": {},
     "output_type": "execute_result"
    }
   ],
   "source": [
    "True and True and True # True\n",
    "True and True and False # False\n",
    "True or False or False # True\n",
    "False or False or False # False"
   ]
  },
  {
   "cell_type": "code",
   "execution_count": 66,
   "id": "81a4dd8b",
   "metadata": {},
   "outputs": [
    {
     "data": {
      "text/plain": [
       "True"
      ]
     },
     "execution_count": 66,
     "metadata": {},
     "output_type": "execute_result"
    }
   ],
   "source": [
    "False or True and True # True\n",
    "not(False) and True or False # True"
   ]
  },
  {
   "cell_type": "code",
   "execution_count": 67,
   "id": "4df69e02",
   "metadata": {},
   "outputs": [
    {
     "data": {
      "text/plain": [
       "True"
      ]
     },
     "execution_count": 67,
     "metadata": {},
     "output_type": "execute_result"
    }
   ],
   "source": [
    "(True and False) or True # True\n",
    "not(True and False or not(True)) # True"
   ]
  },
  {
   "cell_type": "code",
   "execution_count": 68,
   "id": "9ca59d1c",
   "metadata": {},
   "outputs": [
    {
     "data": {
      "text/plain": [
       "False"
      ]
     },
     "execution_count": 68,
     "metadata": {},
     "output_type": "execute_result"
    }
   ],
   "source": [
    "maListe = [4, 2, 3, 2, 10]\n",
    "maListeDeString = [\"a\", \"b\", \"c\", \"d\"]\n",
    "monString = \"La météo est vraiment bien aujourd'hui !\"\n",
    "\n",
    "4 in maListe # True\n",
    "0 in maListe # False\n",
    "0 in maListeDeString # False\n",
    "\"c\" in maListeDeString # True\n",
    "\"e\" in maListeDeString # False\n",
    "\"météo\" in monString # True\n",
    "\"vraiment\" in monString # True\n",
    "\"pluie ?\" in monString # False"
   ]
  },
  {
   "cell_type": "code",
   "execution_count": 70,
   "id": "c892b5de",
   "metadata": {},
   "outputs": [],
   "source": [
    "# if condition1: \n",
    "    # instructions\n",
    "# elif condition2:\n",
    "    # instructions\n",
    "# else:\n",
    "    # instructions"
   ]
  },
  {
   "cell_type": "code",
   "execution_count": 71,
   "id": "25000d27",
   "metadata": {},
   "outputs": [
    {
     "name": "stdout",
     "output_type": "stream",
     "text": [
      "Quel est le soldes de votre compte ?300\n",
      "Prêt en cours de validation : à l'étude\n"
     ]
    }
   ],
   "source": [
    "compte = input(\"Quel est le soldes de votre compte ?\")\n",
    "compte = int(compte) # transformer la réponse en entier\n",
    "\n",
    "if compte >= 10000:\n",
    "    print(\"Prêt accordé !\")\n",
    "elif compte >= 100 and compte < 10000:\n",
    "    print(\"Prêt en cours de validation : à l'étude\")\n",
    "else:\n",
    "    print(\"Prêt refusé\")"
   ]
  },
  {
   "cell_type": "markdown",
   "id": "e298f74c",
   "metadata": {},
   "source": [
    "#  Exercice d'entrainement"
   ]
  },
  {
   "cell_type": "code",
   "execution_count": 72,
   "id": "f618805c",
   "metadata": {},
   "outputs": [
    {
     "name": "stdout",
     "output_type": "stream",
     "text": [
      "c est entre a et b\n",
      "c est entre a et b\n"
     ]
    }
   ],
   "source": [
    "# Gérez un enchaînement de conditions\n",
    "\n",
    "# Exécutez le code suivant :\n",
    "\n",
    "a = 5\n",
    "b = 10\n",
    "c = 7\n",
    "\n",
    "if c < a :\n",
    "    print(\"c est plus petit que a\")\n",
    "    \n",
    "if c > b :\n",
    "    print(\"c est plus grand que b\")\n",
    "    \n",
    "if c > a and c < b :\n",
    "    print(\"c est entre a et b\")\n",
    "\n",
    "# A présent, reprenez le code ci dessus, en remplaçant les 3 if avec une structure de type if / elif / else plus adaptée. L'affichage au final doit être identique !\n",
    "\n",
    "a = 5\n",
    "b = 10\n",
    "c = 7\n",
    "\n",
    "if c < a:\n",
    "    print(\"c est plus petit que a\")\n",
    "elif c > b:\n",
    "    print(\"c est plus grand que b\")\n",
    "else:\n",
    "    print(\"c est entre a et b\")"
   ]
  },
  {
   "cell_type": "markdown",
   "id": "2c8387e0",
   "metadata": {},
   "source": [
    "# En résumé\n",
    "#### Les conditions vous permettent d’exécuter un bloc de code lorsqu’un booléen, une variable ou une expression est vrai (True).\n",
    "\n",
    "#### Les expressions utilisent de l’arithmétique booléenne, incluant des opérateurs logiques et des opérateurs de comparaison.\n",
    "\n",
    "#### Vous pouvez réaliser plusieurs conditions avec les enchaînements de if/elif/else.# "
   ]
  },
  {
   "cell_type": "markdown",
   "id": "38171c08",
   "metadata": {},
   "source": [
    "# Choisissez la boucle adéquate"
   ]
  },
  {
   "cell_type": "code",
   "execution_count": 73,
   "id": "050abdb3",
   "metadata": {},
   "outputs": [
    {
     "name": "stdout",
     "output_type": "stream",
     "text": [
      "E\n",
      "l\n",
      "é\n",
      "m\n",
      "e\n",
      "n\n",
      "t\n",
      "s\n"
     ]
    }
   ],
   "source": [
    "monString = \"Eléments\"\n",
    "\n",
    "for elt in monString:\n",
    "    print(elt)"
   ]
  },
  {
   "cell_type": "code",
   "execution_count": 74,
   "id": "34971744",
   "metadata": {},
   "outputs": [
    {
     "name": "stdout",
     "output_type": "stream",
     "text": [
      "0\n",
      "1\n",
      "2\n",
      "3\n",
      "4\n",
      "0\n",
      "1\n",
      "2\n",
      "3\n",
      "4\n",
      "0\n",
      "1\n",
      "2\n",
      "3\n",
      "4\n",
      "0\n",
      "2\n",
      "4\n"
     ]
    }
   ],
   "source": [
    "for i in range(0, 5, 1):\n",
    "    print(i) # -> affiche de 0 à 4 par pas de 1 (fin - 1)\n",
    "    \n",
    "for i in range(0, 5):\n",
    "    print(i) # -> affiche de 0 à 4 également (le pas par défaut est 1)\n",
    "    \n",
    "for i in range(5):\n",
    "    print(i) # -> affiche de 0 à 4 également (le début par défaut est 0)\n",
    "\n",
    "for i in range(0, 5, 2):\n",
    "    print(i) # -> affiche 0, 2 puis 4"
   ]
  },
  {
   "cell_type": "code",
   "execution_count": 75,
   "id": "870aa748",
   "metadata": {},
   "outputs": [],
   "source": [
    "# while expressionLogique:\n",
    "    # bloc à exécuter"
   ]
  },
  {
   "cell_type": "code",
   "execution_count": 76,
   "id": "1dd1cdb1",
   "metadata": {},
   "outputs": [
    {
     "name": "stdout",
     "output_type": "stream",
     "text": [
      "J'ai planté 1 arbres\n",
      "J'ai planté 2 arbres\n",
      "J'ai planté 3 arbres\n",
      "J'ai planté 4 arbres\n",
      "J'ai planté 5 arbres\n",
      "J'ai planté 6 arbres\n",
      "J'ai planté 7 arbres\n",
      "J'ai planté 8 arbres\n",
      "J'ai planté 9 arbres\n",
      "J'ai planté 10 arbres\n",
      "J'ai une chouette forêt !\n"
     ]
    }
   ],
   "source": [
    "nombreArbres = 0\n",
    "\n",
    "while nombreArbres < 10:\n",
    "    nombreArbres += 1\n",
    "    print(\"J'ai planté\", nombreArbres, \"arbres\")\n",
    "    \n",
    "print(\"J'ai une chouette forêt !\")"
   ]
  },
  {
   "cell_type": "code",
   "execution_count": null,
   "id": "e2289527",
   "metadata": {},
   "outputs": [],
   "source": [
    "leSoleilBrille = True\n",
    "\n",
    "# while leSoleilBrille:\n",
    "    # print(\"Reste éveillé... pour toujours !\") \n",
    "    # leSoleilBrille ne change jamais, donc la condition est toujours vraie \n",
    "    \n",
    "# nous n'atteignons donc jamais cette ligne\n",
    "# print(\"Il est temps d'aller dormir !\")"
   ]
  },
  {
   "cell_type": "markdown",
   "id": "82677173",
   "metadata": {},
   "source": [
    "# Exercice d'entrainement"
   ]
  },
  {
   "cell_type": "code",
   "execution_count": null,
   "id": "de4f87a0",
   "metadata": {},
   "outputs": [],
   "source": [
    "# La boucle WHILE : “bouclez” selon une condition\n",
    "\n",
    "# Créez une boucle for qui va afficher : 'OpenClassRooms est vraiment top !' 5 fois\n",
    "\n",
    "for i in range(5):\n",
    "    print(\"OpenClassRooms est vraiment top !\")\n",
    "    \n",
    "# Changez votre boucle for par une boucle while :\n",
    "\n",
    "i = 0\n",
    "while i < 5:\n",
    "    print(\"OpenClassRooms est vraiment top !\")\n",
    "    i += 1"
   ]
  },
  {
   "cell_type": "code",
   "execution_count": null,
   "id": "308b8d22",
   "metadata": {},
   "outputs": [],
   "source": [
    "for i in range(10):\n",
    "    # instructions réalisées à chaque itération\n",
    "    print(i)\n",
    "    if (i == 2) or (i == 5):\n",
    "        print(\"Cas spécial\")\n",
    "        continue \n",
    "    # instructions non exécutées si i == 2 or 5 \n",
    "    print(\"i != 2 & i != 5\")\n"
   ]
  },
  {
   "cell_type": "code",
   "execution_count": null,
   "id": "080a3ed2",
   "metadata": {},
   "outputs": [],
   "source": [
    "panier = [\"pomme\", \"orange\", \"banane\"]\n",
    "\n",
    "for fruit in panier:\n",
    "    if fruit == \"orange\":\n",
    "        print(\"J'ai une\", fruit, \"!\")\n",
    "        break"
   ]
  },
  {
   "cell_type": "markdown",
   "id": "7406eeb0",
   "metadata": {},
   "source": [
    "# En résumé\n",
    "#### Dans ce chapitre, vous avez découvert 2 types de boucles :\n",
    "\n",
    "#### celle pour répéter une action un certain nombre de fois fixé, ou selon une séquence : la boucle for ;\n",
    "\n",
    "#### la boucle vous permettant de répéter une action tant qu’une condition est vraie : la boucle while.\n",
    "\n",
    "#### Il y a une erreur courante à ne pas commettre avec la boucle while : la boucle infinie !\n",
    "\n",
    "#### Vous pouvez choisir de passer certains tours de boucle via le mot clé continue.\n",
    "\n",
    "#### Les cycles de la boucle peuvent être interrompus via la commande break."
   ]
  },
  {
   "cell_type": "markdown",
   "id": "dddad8d2",
   "metadata": {},
   "source": [
    "# Prenez en main les modules et librairies Python"
   ]
  },
  {
   "cell_type": "code",
   "execution_count": null,
   "id": "55c9386c",
   "metadata": {},
   "outputs": [],
   "source": [
    "import geometry"
   ]
  },
  {
   "cell_type": "code",
   "execution_count": null,
   "id": "b0d5775f",
   "metadata": {},
   "outputs": [],
   "source": [
    "'''\n",
    "Module geometry.py\n",
    "'''\n",
    "# variables\n",
    "pi = 3.14159265359\n",
    "phi = 1.6180\n",
    "\n",
    "# fonction qui calcule l'aire\n",
    "def aire(obj):\n",
    "    if type(obj) == carre:\n",
    "        return obj.a**2\n",
    "\n",
    "# definitions de quelques classes\n",
    "class carre(object):\n",
    "    def __init__(self,a):\n",
    "        self.a = a\n",
    "\n",
    "class triangle(object):\n",
    "    def __init__(self,a,b,c):\n",
    "        self.a = a\n",
    "        self.b = b\n",
    "        self.c = c"
   ]
  },
  {
   "cell_type": "code",
   "execution_count": null,
   "id": "a216a04b",
   "metadata": {},
   "outputs": [],
   "source": [
    "car = geometry.carre(4)\n",
    "tri = geometry.triangle(3, 6, 5)\n",
    "\n",
    "print(geometry.pi) # -> 3.14159265359\n",
    "\n",
    "geometry.aire(car) # -> 16"
   ]
  },
  {
   "cell_type": "code",
   "execution_count": null,
   "id": "0ac15dd0",
   "metadata": {},
   "outputs": [],
   "source": [
    "import geometry as geo # on peut maintenant accéder à geo.aire() ou geo.pi"
   ]
  },
  {
   "cell_type": "code",
   "execution_count": null,
   "id": "bd7009d9",
   "metadata": {},
   "outputs": [],
   "source": [
    "from geometry import pi\n",
    "print(pi) # -> 3.14159265359"
   ]
  },
  {
   "cell_type": "code",
   "execution_count": null,
   "id": "758f55c4",
   "metadata": {},
   "outputs": [],
   "source": [
    "from geometry import *"
   ]
  },
  {
   "cell_type": "code",
   "execution_count": null,
   "id": "4acf0879",
   "metadata": {},
   "outputs": [],
   "source": [
    "import geometry # import all the geometry package\n",
    "\n",
    "print(geometry.variables.pi) # -> 3.1415...\n",
    "car = geometry.classes.carre(4)\n",
    "geometry.fonctions.aire(car) # -> 16"
   ]
  },
  {
   "cell_type": "code",
   "execution_count": null,
   "id": "8adf9cc9",
   "metadata": {},
   "outputs": [],
   "source": [
    "import geometry.variables as var # importer uniquement ce qui est défini dans variables.py\n",
    "\n",
    "print(var.pi) # -> 3.1415..."
   ]
  },
  {
   "cell_type": "code",
   "execution_count": null,
   "id": "2e5fa6fe",
   "metadata": {},
   "outputs": [],
   "source": [
    "import numpy as np\n",
    "np.sqrt(16) # -> 4.0"
   ]
  },
  {
   "cell_type": "markdown",
   "id": "fc9ce5e1",
   "metadata": {},
   "source": [
    "# En résumé\n",
    "#### Dans ce chapitre, nous avons vu ensemble les bases de l’utilisation des modules et des packages :\n",
    "\n",
    "#### un module est un fichier contenant du code Python (extension .py) qui peut définir des fonctions, des classes et/ou des variables ;\n",
    "\n",
    "#### vous pouvez importer n’importe quel module Python via le mot clé  import;\n",
    "\n",
    "#### pour utiliser une fonction d’un module, ou une classe ou une variable, il faut utiliser l’opérateur  .;\n",
    "\n",
    "#### un package est un ensemble de plusieurs modules Python ;\n",
    "\n",
    "#### il existe de nombreux packages spécifiquement créés pour l’analyse de données.# "
   ]
  },
  {
   "cell_type": "markdown",
   "id": "98d43091",
   "metadata": {},
   "source": [
    "# Manipulez des nombres aléatoires avec le module random"
   ]
  },
  {
   "cell_type": "code",
   "execution_count": null,
   "id": "6599fafc",
   "metadata": {},
   "outputs": [],
   "source": [
    "import random"
   ]
  },
  {
   "cell_type": "markdown",
   "id": "45219029",
   "metadata": {},
   "source": [
    "# En résumé\n",
    "#### Vous avez vu les principales fonctionnalités disponibles via le module random. Vous pouvez à présent :\n",
    "\n",
    "#### générer un nombre aléatoire, entier ou décimal, dans un intervalle donné ;\n",
    "\n",
    "#### générer un nombre aléatoire suivant une distribution donnée ;\n",
    "\n",
    "#### choisir aléatoirement un ou plusieurs éléments dans une liste, avec ou sans remise."
   ]
  }
 ],
 "metadata": {
  "kernelspec": {
   "display_name": "Python 3 (ipykernel)",
   "language": "python",
   "name": "python3"
  },
  "language_info": {
   "codemirror_mode": {
    "name": "ipython",
    "version": 3
   },
   "file_extension": ".py",
   "mimetype": "text/x-python",
   "name": "python",
   "nbconvert_exporter": "python",
   "pygments_lexer": "ipython3",
   "version": "3.9.7"
  }
 },
 "nbformat": 4,
 "nbformat_minor": 5
}
